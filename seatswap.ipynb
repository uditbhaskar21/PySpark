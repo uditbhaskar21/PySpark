{
  "nbformat": 4,
  "nbformat_minor": 0,
  "metadata": {
    "colab": {
      "provenance": [],
      "gpuType": "T4",
      "authorship_tag": "ABX9TyMHT53nlyhwXtXJeAildF3j",
      "include_colab_link": true
    },
    "kernelspec": {
      "name": "python3",
      "display_name": "Python 3"
    },
    "language_info": {
      "name": "python"
    },
    "accelerator": "GPU"
  },
  "cells": [
    {
      "cell_type": "markdown",
      "metadata": {
        "id": "view-in-github",
        "colab_type": "text"
      },
      "source": [
        "<a href=\"https://colab.research.google.com/github/uditbhaskar21/PySpark/blob/main/seatswap.ipynb\" target=\"_parent\"><img src=\"https://colab.research.google.com/assets/colab-badge.svg\" alt=\"Open In Colab\"/></a>"
      ]
    },
    {
      "cell_type": "code",
      "execution_count": 1,
      "metadata": {
        "colab": {
          "base_uri": "https://localhost:8080/"
        },
        "id": "0RxEXZs645NC",
        "outputId": "1c16c8c3-8f85-4fb1-c23e-a9aa092bd3aa"
      },
      "outputs": [
        {
          "output_type": "stream",
          "name": "stdout",
          "text": [
            "Collecting pyspark\n",
            "  Downloading pyspark-3.4.1.tar.gz (310.8 MB)\n",
            "\u001b[2K     \u001b[90m━━━━━━━━━━━━━━━━━━━━━━━━━━━━━━━━━━━━━━━\u001b[0m \u001b[32m310.8/310.8 MB\u001b[0m \u001b[31m4.8 MB/s\u001b[0m eta \u001b[36m0:00:00\u001b[0m\n",
            "\u001b[?25h  Preparing metadata (setup.py) ... \u001b[?25l\u001b[?25hdone\n",
            "Requirement already satisfied: py4j==0.10.9.7 in /usr/local/lib/python3.10/dist-packages (from pyspark) (0.10.9.7)\n",
            "Building wheels for collected packages: pyspark\n",
            "  Building wheel for pyspark (setup.py) ... \u001b[?25l\u001b[?25hdone\n",
            "  Created wheel for pyspark: filename=pyspark-3.4.1-py2.py3-none-any.whl size=311285387 sha256=73ec0ea06d03ae762fa1d43b1d876560da8a2031eb61bc84ca0e442925774cc6\n",
            "  Stored in directory: /root/.cache/pip/wheels/0d/77/a3/ff2f74cc9ab41f8f594dabf0579c2a7c6de920d584206e0834\n",
            "Successfully built pyspark\n",
            "Installing collected packages: pyspark\n",
            "Successfully installed pyspark-3.4.1\n"
          ]
        }
      ],
      "source": [
        "!pip install pyspark"
      ]
    },
    {
      "cell_type": "code",
      "source": [
        "from pyspark.sql import SparkSession\n",
        "spark = SparkSession.builder.appName(\"example\").getOrCreate()\n",
        "print(spark.version)\n"
      ],
      "metadata": {
        "colab": {
          "base_uri": "https://localhost:8080/"
        },
        "id": "S-sGPpT_7Irq",
        "outputId": "5fdb41d4-bd4c-4bbe-dce8-70b3b1c71db7"
      },
      "execution_count": 3,
      "outputs": [
        {
          "output_type": "stream",
          "name": "stdout",
          "text": [
            "3.4.1\n"
          ]
        }
      ]
    },
    {
      "cell_type": "code",
      "source": [
        "from pyspark.sql.functions import *"
      ],
      "metadata": {
        "id": "qkT27nRq5P4x"
      },
      "execution_count": 2,
      "outputs": []
    },
    {
      "cell_type": "code",
      "source": [
        "data = [('1','A'),('2','B'),('3','C'),('4','D'),('5','E')]\n",
        "df = spark.createDataFrame(data,[\"id\",'name'])\n",
        "df.show()"
      ],
      "metadata": {
        "colab": {
          "base_uri": "https://localhost:8080/"
        },
        "id": "IYkbWh_Q6y0G",
        "outputId": "745ae33c-4484-4eb1-8823-7f789ab0fc98"
      },
      "execution_count": 4,
      "outputs": [
        {
          "output_type": "stream",
          "name": "stdout",
          "text": [
            "+---+----+\n",
            "| id|name|\n",
            "+---+----+\n",
            "|  1|   A|\n",
            "|  2|   B|\n",
            "|  3|   C|\n",
            "|  4|   D|\n",
            "|  5|   E|\n",
            "+---+----+\n",
            "\n"
          ]
        }
      ]
    },
    {
      "cell_type": "code",
      "source": [
        "from pyspark.sql.window import Window"
      ],
      "metadata": {
        "id": "Z4H5CzUC7TR3"
      },
      "execution_count": 5,
      "outputs": []
    },
    {
      "cell_type": "code",
      "source": [
        "df1 = df.withColumn('previous',lag('name').over(Window.orderBy('id')))\n",
        "df2 = df1.withColumn('next',lead('name').over(Window.orderBy('id')))\n",
        "df2.show()"
      ],
      "metadata": {
        "colab": {
          "base_uri": "https://localhost:8080/"
        },
        "id": "cmXsRbJ47iLx",
        "outputId": "e7876590-7544-41ef-9547-18d3b45218b2"
      },
      "execution_count": 9,
      "outputs": [
        {
          "output_type": "stream",
          "name": "stdout",
          "text": [
            "+---+----+--------+----+\n",
            "| id|name|previous|next|\n",
            "+---+----+--------+----+\n",
            "|  1|   A|    null|   B|\n",
            "|  2|   B|       A|   C|\n",
            "|  3|   C|       B|   D|\n",
            "|  4|   D|       C|   E|\n",
            "|  5|   E|       D|null|\n",
            "+---+----+--------+----+\n",
            "\n"
          ]
        }
      ]
    },
    {
      "cell_type": "code",
      "source": [
        "df3 = df2.withColumn('Exchanged',when(df2['id']%2 == 1, coalesce(df2['next'],df2['name'])). when(df2['id']%2 == 0, coalesce(df2['previous'],df2['name'])).otherwise(df2['name']))"
      ],
      "metadata": {
        "id": "Jm2eF4kv7zrt"
      },
      "execution_count": 10,
      "outputs": []
    },
    {
      "cell_type": "code",
      "source": [
        "df3.show()"
      ],
      "metadata": {
        "colab": {
          "base_uri": "https://localhost:8080/"
        },
        "id": "y6zrbDXO9XMP",
        "outputId": "f3e32e08-42f4-4fee-b385-95639944d61c"
      },
      "execution_count": 11,
      "outputs": [
        {
          "output_type": "stream",
          "name": "stdout",
          "text": [
            "+---+----+--------+----+---------+\n",
            "| id|name|previous|next|Exchanged|\n",
            "+---+----+--------+----+---------+\n",
            "|  1|   A|    null|   B|        B|\n",
            "|  2|   B|       A|   C|        A|\n",
            "|  3|   C|       B|   D|        D|\n",
            "|  4|   D|       C|   E|        C|\n",
            "|  5|   E|       D|null|        E|\n",
            "+---+----+--------+----+---------+\n",
            "\n"
          ]
        }
      ]
    },
    {
      "cell_type": "code",
      "source": [
        "df4 = df3.drop('previous','next').withColumnRenamed('Exchanged','new')"
      ],
      "metadata": {
        "id": "ePzC0I079asd"
      },
      "execution_count": 16,
      "outputs": []
    },
    {
      "cell_type": "code",
      "source": [
        "df4.show()"
      ],
      "metadata": {
        "colab": {
          "base_uri": "https://localhost:8080/"
        },
        "id": "D6f8fCHc-RZa",
        "outputId": "65c6d2b4-c6be-4498-f1c1-28bed0093d22"
      },
      "execution_count": 17,
      "outputs": [
        {
          "output_type": "stream",
          "name": "stdout",
          "text": [
            "+---+----+---+\n",
            "| id|name|new|\n",
            "+---+----+---+\n",
            "|  1|   A|  B|\n",
            "|  2|   B|  A|\n",
            "|  3|   C|  D|\n",
            "|  4|   D|  C|\n",
            "|  5|   E|  E|\n",
            "+---+----+---+\n",
            "\n"
          ]
        }
      ]
    },
    {
      "cell_type": "markdown",
      "source": [
        "Spark SQL\n"
      ],
      "metadata": {
        "id": "PMmdYZKT_Iyu"
      }
    },
    {
      "cell_type": "code",
      "source": [
        "select id, name,\n",
        "case\n",
        "when id%2 == 1 then coalesce(lead(student) over (order by id), name)\n",
        "WHEN id%2 == 0 then coalesce(lag(student) over (order by id), name)\n",
        "else name end as exchanged\n",
        "from table"
      ],
      "metadata": {
        "id": "hwcPLPkS_Lfm"
      },
      "execution_count": null,
      "outputs": []
    }
  ]
}