{
  "nbformat": 4,
  "nbformat_minor": 0,
  "metadata": {
    "colab": {
      "provenance": [],
      "authorship_tag": "ABX9TyMG0/9yOdMDhZ6jkQyWBkoE",
      "include_colab_link": true
    },
    "kernelspec": {
      "name": "python3",
      "display_name": "Python 3"
    },
    "language_info": {
      "name": "python"
    }
  },
  "cells": [
    {
      "cell_type": "markdown",
      "metadata": {
        "id": "view-in-github",
        "colab_type": "text"
      },
      "source": [
        "<a href=\"https://colab.research.google.com/github/uditbhaskar21/PySpark/blob/main/callduraration.ipynb\" target=\"_parent\"><img src=\"https://colab.research.google.com/assets/colab-badge.svg\" alt=\"Open In Colab\"/></a>"
      ]
    },
    {
      "cell_type": "code",
      "execution_count": 1,
      "metadata": {
        "colab": {
          "base_uri": "https://localhost:8080/"
        },
        "id": "mqm95zKXsxEA",
        "outputId": "bd8d56a2-46bc-4ee9-8982-252d524bde9c"
      },
      "outputs": [
        {
          "output_type": "stream",
          "name": "stdout",
          "text": [
            "Collecting pyspark\n",
            "  Downloading pyspark-3.4.1.tar.gz (310.8 MB)\n",
            "\u001b[2K     \u001b[90m━━━━━━━━━━━━━━━━━━━━━━━━━━━━━━━━━━━━━━━\u001b[0m \u001b[32m310.8/310.8 MB\u001b[0m \u001b[31m3.5 MB/s\u001b[0m eta \u001b[36m0:00:00\u001b[0m\n",
            "\u001b[?25h  Preparing metadata (setup.py) ... \u001b[?25l\u001b[?25hdone\n",
            "Requirement already satisfied: py4j==0.10.9.7 in /usr/local/lib/python3.10/dist-packages (from pyspark) (0.10.9.7)\n",
            "Building wheels for collected packages: pyspark\n",
            "  Building wheel for pyspark (setup.py) ... \u001b[?25l\u001b[?25hdone\n",
            "  Created wheel for pyspark: filename=pyspark-3.4.1-py2.py3-none-any.whl size=311285387 sha256=cd0fff48f1a58b87d5236857071069b5844635e2344fe630e9b89b74e319f35d\n",
            "  Stored in directory: /root/.cache/pip/wheels/0d/77/a3/ff2f74cc9ab41f8f594dabf0579c2a7c6de920d584206e0834\n",
            "Successfully built pyspark\n",
            "Installing collected packages: pyspark\n",
            "Successfully installed pyspark-3.4.1\n"
          ]
        }
      ],
      "source": [
        "!pip install pyspark"
      ]
    },
    {
      "cell_type": "code",
      "source": [
        "from pyspark.sql.functions import col,sum,when, count"
      ],
      "metadata": {
        "id": "JmTMJmPwtFWI"
      },
      "execution_count": 3,
      "outputs": []
    },
    {
      "cell_type": "code",
      "source": [
        "data = [\n",
        "    (10,20,58),\n",
        "    (20,10,12),\n",
        "    (10,30,20),\n",
        "    (30,40,100),\n",
        "    (30,40,200),\n",
        "    (30,40,200),\n",
        "    (40,30,500),\n",
        "]"
      ],
      "metadata": {
        "id": "ZBXU87oKtUNu"
      },
      "execution_count": 4,
      "outputs": []
    },
    {
      "cell_type": "code",
      "source": [
        "from pyspark.sql import SparkSession\n",
        "spark = SparkSession.builder.appName(\"example\").getOrCreate()\n",
        "print(spark.version)"
      ],
      "metadata": {
        "colab": {
          "base_uri": "https://localhost:8080/"
        },
        "id": "tBv4nvzfvds4",
        "outputId": "51c8f56e-9100-4290-aca9-ea54dced2721"
      },
      "execution_count": 7,
      "outputs": [
        {
          "output_type": "stream",
          "name": "stdout",
          "text": [
            "3.4.1\n"
          ]
        }
      ]
    },
    {
      "cell_type": "code",
      "source": [
        "df = spark.createDataFrame(data,[\"from\",\"to\",\"dur\"])\n"
      ],
      "metadata": {
        "id": "yTabC_I4u-QN"
      },
      "execution_count": 8,
      "outputs": []
    },
    {
      "cell_type": "code",
      "source": [
        "df.show()"
      ],
      "metadata": {
        "colab": {
          "base_uri": "https://localhost:8080/"
        },
        "id": "rh3OK3XGvmWw",
        "outputId": "5194d69a-5feb-480a-9b19-0e64e4eb2acd"
      },
      "execution_count": 9,
      "outputs": [
        {
          "output_type": "stream",
          "name": "stdout",
          "text": [
            "+----+---+---+\n",
            "|from| to|dur|\n",
            "+----+---+---+\n",
            "|  10| 20| 58|\n",
            "|  20| 10| 12|\n",
            "|  10| 30| 20|\n",
            "|  30| 40|100|\n",
            "|  30| 40|200|\n",
            "|  30| 40|200|\n",
            "|  40| 30|500|\n",
            "+----+---+---+\n",
            "\n"
          ]
        }
      ]
    },
    {
      "cell_type": "markdown",
      "source": [
        "PySpark"
      ],
      "metadata": {
        "id": "O6RmFw1zvxI4"
      }
    },
    {
      "cell_type": "code",
      "source": [
        "df1 = (df.withColumn(\"P1\",when(col(\"from\")< col(\"to\"), col(\"from\")).otherwise(col(\"to\")))\n",
        ".withColumn(\"P2\",when(col(\"from\")< col(\"to\"),col(\"to\")).otherwise(col(\"from\"))).select(\"P1\",\"P2\",\"Dur\"))"
      ],
      "metadata": {
        "id": "gHUnZR71vpEa"
      },
      "execution_count": 11,
      "outputs": []
    },
    {
      "cell_type": "code",
      "source": [
        "df1.show()"
      ],
      "metadata": {
        "colab": {
          "base_uri": "https://localhost:8080/"
        },
        "id": "UQG-_Te-xB_8",
        "outputId": "a57a1494-7c03-4ca4-db83-df0692f0c89b"
      },
      "execution_count": 12,
      "outputs": [
        {
          "output_type": "stream",
          "name": "stdout",
          "text": [
            "+---+---+---+\n",
            "| P1| P2|Dur|\n",
            "+---+---+---+\n",
            "| 10| 20| 58|\n",
            "| 10| 20| 12|\n",
            "| 10| 30| 20|\n",
            "| 30| 40|100|\n",
            "| 30| 40|200|\n",
            "| 30| 40|200|\n",
            "| 30| 40|500|\n",
            "+---+---+---+\n",
            "\n"
          ]
        }
      ]
    },
    {
      "cell_type": "code",
      "source": [
        "result = (df1.groupBy(col(\"P1\"),col(\"P2\")).agg(sum(col(\"Dur\")).alias(\"Duration\"), count(col(\"P1\")).alias(\"call_count\")).select(\"P1\",\"P2\",\"Duration\",\"call_count\"))"
      ],
      "metadata": {
        "id": "H0GCUwxixFj0"
      },
      "execution_count": 15,
      "outputs": []
    },
    {
      "cell_type": "code",
      "source": [
        "result.show()"
      ],
      "metadata": {
        "colab": {
          "base_uri": "https://localhost:8080/"
        },
        "id": "Fw_4kIh9xwtP",
        "outputId": "2b9ab268-60c3-46b9-9452-9c583f9d7512"
      },
      "execution_count": 16,
      "outputs": [
        {
          "output_type": "stream",
          "name": "stdout",
          "text": [
            "+---+---+--------+----------+\n",
            "| P1| P2|Duration|call_count|\n",
            "+---+---+--------+----------+\n",
            "| 10| 30|      20|         1|\n",
            "| 10| 20|      70|         2|\n",
            "| 30| 40|    1000|         4|\n",
            "+---+---+--------+----------+\n",
            "\n"
          ]
        }
      ]
    },
    {
      "cell_type": "code",
      "source": [],
      "metadata": {
        "id": "pTfws_vyzOA_"
      },
      "execution_count": null,
      "outputs": []
    },
    {
      "cell_type": "markdown",
      "source": [
        "SparkSQL"
      ],
      "metadata": {
        "id": "KB8StdRsx7NF"
      }
    },
    {
      "cell_type": "code",
      "source": [
        "df.createOrReplaceTempView(\"Calls\")"
      ],
      "metadata": {
        "id": "sDTGoSwNx6xT"
      },
      "execution_count": 17,
      "outputs": []
    },
    {
      "cell_type": "code",
      "source": [
        "select\n",
        "case\n",
        "when from < to then from else to end P1\n",
        "when from < to then to else from end P2\n",
        ", duration from calls\n",
        "\n",
        "\n",
        "with cte1 as (\n",
        "    select *, case when from < to then from else to end P1,\n",
        "    case when from < to then  to else from end P2\n",
        "    from calls)\n",
        ")\n",
        "\n",
        "select p1,p2, count(p1), sum(duration) from cte1\n",
        "group by p1,p2\n"
      ],
      "metadata": {
        "id": "DFw4LaI_yDNw"
      },
      "execution_count": null,
      "outputs": []
    }
  ]
}