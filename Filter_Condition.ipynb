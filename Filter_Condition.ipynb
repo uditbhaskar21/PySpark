{
  "nbformat": 4,
  "nbformat_minor": 0,
  "metadata": {
    "colab": {
      "provenance": [],
      "authorship_tag": "ABX9TyNmU9vvZ04YO3tFBLWmP0Kc",
      "include_colab_link": true
    },
    "kernelspec": {
      "name": "python3",
      "display_name": "Python 3"
    },
    "language_info": {
      "name": "python"
    }
  },
  "cells": [
    {
      "cell_type": "markdown",
      "metadata": {
        "id": "view-in-github",
        "colab_type": "text"
      },
      "source": [
        "<a href=\"https://colab.research.google.com/github/uditbhaskar21/PySpark/blob/main/Filter_Condition.ipynb\" target=\"_parent\"><img src=\"https://colab.research.google.com/assets/colab-badge.svg\" alt=\"Open In Colab\"/></a>"
      ]
    },
    {
      "cell_type": "code",
      "execution_count": 1,
      "metadata": {
        "colab": {
          "base_uri": "https://localhost:8080/"
        },
        "id": "xj57rZQ_JkPj",
        "outputId": "bd4e6a66-989d-402d-d452-4a9acd559fae"
      },
      "outputs": [
        {
          "output_type": "stream",
          "name": "stdout",
          "text": [
            "Collecting pyspark\n",
            "  Downloading pyspark-3.4.1.tar.gz (310.8 MB)\n",
            "\u001b[2K     \u001b[90m━━━━━━━━━━━━━━━━━━━━━━━━━━━━━━━━━━━━━━━\u001b[0m \u001b[32m310.8/310.8 MB\u001b[0m \u001b[31m2.2 MB/s\u001b[0m eta \u001b[36m0:00:00\u001b[0m\n",
            "\u001b[?25h  Preparing metadata (setup.py) ... \u001b[?25l\u001b[?25hdone\n",
            "Requirement already satisfied: py4j==0.10.9.7 in /usr/local/lib/python3.10/dist-packages (from pyspark) (0.10.9.7)\n",
            "Building wheels for collected packages: pyspark\n",
            "  Building wheel for pyspark (setup.py) ... \u001b[?25l\u001b[?25hdone\n",
            "  Created wheel for pyspark: filename=pyspark-3.4.1-py2.py3-none-any.whl size=311285387 sha256=f7e274c16d628d0f0e1c919c6ae7d29f0a31962e034b50983d3738d75a4a1725\n",
            "  Stored in directory: /root/.cache/pip/wheels/0d/77/a3/ff2f74cc9ab41f8f594dabf0579c2a7c6de920d584206e0834\n",
            "Successfully built pyspark\n",
            "Installing collected packages: pyspark\n",
            "Successfully installed pyspark-3.4.1\n"
          ]
        }
      ],
      "source": [
        "!pip install pyspark"
      ]
    },
    {
      "cell_type": "code",
      "source": [
        "from pyspark.sql import SparkSession\n",
        "spark = SparkSession.builder.appName(\"Filter\").getOrCreate()\n",
        "print(spark.version)"
      ],
      "metadata": {
        "colab": {
          "base_uri": "https://localhost:8080/"
        },
        "id": "pfw7lSp0JpGm",
        "outputId": "5b830390-d039-4593-e09e-1f4fa65bb66d"
      },
      "execution_count": 2,
      "outputs": [
        {
          "output_type": "stream",
          "name": "stdout",
          "text": [
            "3.4.1\n"
          ]
        }
      ]
    },
    {
      "cell_type": "code",
      "source": [
        "data  = [(10,\"A\",\"1999\",\"100\",\"M\",2000),(11,\"b\",\"1996\",\"100\",\"f\",4000),(12,\"c\",\"1999\",\"200\",\"M\",8000),(13,\"d\",\"1998\",\"300\",\"M\",3000),(14,\"e\",\"2001\",\"400\",\"f\",9000)\n",
        ",(15,\"f\",\"2004\",\"400\",\"M\",20000)]"
      ],
      "metadata": {
        "id": "OOxt1HkNKBkU"
      },
      "execution_count": 3,
      "outputs": []
    },
    {
      "cell_type": "code",
      "source": [
        "employee_schema = [\"id\",\"name\",\"dob\",\"dep\",\"gender\",\"salary\"]"
      ],
      "metadata": {
        "id": "br7ph5cNPaXu"
      },
      "execution_count": 4,
      "outputs": []
    },
    {
      "cell_type": "code",
      "source": [
        "df = spark.createDataFrame(data = data,schema = employee_schema)"
      ],
      "metadata": {
        "id": "QmM4FE9fPmT2"
      },
      "execution_count": 5,
      "outputs": []
    },
    {
      "cell_type": "code",
      "source": [
        "df.show()"
      ],
      "metadata": {
        "colab": {
          "base_uri": "https://localhost:8080/"
        },
        "id": "3wdtciNzPzDA",
        "outputId": "1cde777a-3713-430d-e86a-c0c3486498a4"
      },
      "execution_count": 6,
      "outputs": [
        {
          "output_type": "stream",
          "name": "stdout",
          "text": [
            "+---+----+----+---+------+------+\n",
            "| id|name| dob|dep|gender|salary|\n",
            "+---+----+----+---+------+------+\n",
            "| 10|   A|1999|100|     M|  2000|\n",
            "| 11|   b|1996|100|     f|  4000|\n",
            "| 12|   c|1999|200|     M|  8000|\n",
            "| 13|   d|1998|300|     M|  3000|\n",
            "| 14|   e|2001|400|     f|  9000|\n",
            "| 15|   f|2004|400|     M| 20000|\n",
            "+---+----+----+---+------+------+\n",
            "\n"
          ]
        }
      ]
    },
    {
      "cell_type": "code",
      "source": [
        "df.filter(df.salary >= 5000).show()"
      ],
      "metadata": {
        "colab": {
          "base_uri": "https://localhost:8080/"
        },
        "id": "1iW-fA-oQaNl",
        "outputId": "c2c18391-f994-4214-f9c7-3e80d17081b0"
      },
      "execution_count": 9,
      "outputs": [
        {
          "output_type": "stream",
          "name": "stdout",
          "text": [
            "+---+----+----+---+------+------+\n",
            "| id|name| dob|dep|gender|salary|\n",
            "+---+----+----+---+------+------+\n",
            "| 12|   c|1999|200|     M|  8000|\n",
            "| 14|   e|2001|400|     f|  9000|\n",
            "| 15|   f|2004|400|     M| 20000|\n",
            "+---+----+----+---+------+------+\n",
            "\n"
          ]
        }
      ]
    },
    {
      "cell_type": "code",
      "source": [
        "df.filter(df.gender == 'f').show()"
      ],
      "metadata": {
        "colab": {
          "base_uri": "https://localhost:8080/"
        },
        "id": "cP-XyrQPRDMJ",
        "outputId": "59ce2504-ef2f-419e-c19a-a90557fe78ad"
      },
      "execution_count": 11,
      "outputs": [
        {
          "output_type": "stream",
          "name": "stdout",
          "text": [
            "+---+----+----+---+------+------+\n",
            "| id|name| dob|dep|gender|salary|\n",
            "+---+----+----+---+------+------+\n",
            "| 11|   b|1996|100|     f|  4000|\n",
            "| 14|   e|2001|400|     f|  9000|\n",
            "+---+----+----+---+------+------+\n",
            "\n"
          ]
        }
      ]
    },
    {
      "cell_type": "code",
      "source": [
        "df.filter(df.gender.isNotNull()).show()"
      ],
      "metadata": {
        "colab": {
          "base_uri": "https://localhost:8080/"
        },
        "id": "Paz42VhXSQHf",
        "outputId": "13a6b467-9826-43f5-e3a4-72a10e8d2a0f"
      },
      "execution_count": 13,
      "outputs": [
        {
          "output_type": "stream",
          "name": "stdout",
          "text": [
            "+---+----+----+---+------+------+\n",
            "| id|name| dob|dep|gender|salary|\n",
            "+---+----+----+---+------+------+\n",
            "| 10|   A|1999|100|     M|  2000|\n",
            "| 11|   b|1996|100|     f|  4000|\n",
            "| 12|   c|1999|200|     M|  8000|\n",
            "| 13|   d|1998|300|     M|  3000|\n",
            "| 14|   e|2001|400|     f|  9000|\n",
            "| 15|   f|2004|400|     M| 20000|\n",
            "+---+----+----+---+------+------+\n",
            "\n"
          ]
        }
      ]
    }
  ]
}