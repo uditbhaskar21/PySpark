{
  "nbformat": 4,
  "nbformat_minor": 0,
  "metadata": {
    "colab": {
      "provenance": [],
      "authorship_tag": "ABX9TyPCLl5bt+15jQV35wAZF55e",
      "include_colab_link": true
    },
    "kernelspec": {
      "name": "python3",
      "display_name": "Python 3"
    },
    "language_info": {
      "name": "python"
    }
  },
  "cells": [
    {
      "cell_type": "markdown",
      "metadata": {
        "id": "view-in-github",
        "colab_type": "text"
      },
      "source": [
        "<a href=\"https://colab.research.google.com/github/uditbhaskar21/PySpark/blob/main/startdate_enddate.ipynb\" target=\"_parent\"><img src=\"https://colab.research.google.com/assets/colab-badge.svg\" alt=\"Open In Colab\"/></a>"
      ]
    },
    {
      "cell_type": "code",
      "execution_count": 1,
      "metadata": {
        "colab": {
          "base_uri": "https://localhost:8080/"
        },
        "id": "DbpKvEaKoPE3",
        "outputId": "7c739831-aee3-4a15-80e2-3826e57f88f1"
      },
      "outputs": [
        {
          "output_type": "stream",
          "name": "stdout",
          "text": [
            "Collecting pyspark\n",
            "  Downloading pyspark-3.4.1.tar.gz (310.8 MB)\n",
            "\u001b[2K     \u001b[90m━━━━━━━━━━━━━━━━━━━━━━━━━━━━━━━━━━━━━━━\u001b[0m \u001b[32m310.8/310.8 MB\u001b[0m \u001b[31m4.8 MB/s\u001b[0m eta \u001b[36m0:00:00\u001b[0m\n",
            "\u001b[?25h  Preparing metadata (setup.py) ... \u001b[?25l\u001b[?25hdone\n",
            "Requirement already satisfied: py4j==0.10.9.7 in /usr/local/lib/python3.10/dist-packages (from pyspark) (0.10.9.7)\n",
            "Building wheels for collected packages: pyspark\n",
            "  Building wheel for pyspark (setup.py) ... \u001b[?25l\u001b[?25hdone\n",
            "  Created wheel for pyspark: filename=pyspark-3.4.1-py2.py3-none-any.whl size=311285387 sha256=6b46482bddcaf1bf6d5aaacb417a59bf92361488d05dd9a4011aed65a7469fe1\n",
            "  Stored in directory: /root/.cache/pip/wheels/0d/77/a3/ff2f74cc9ab41f8f594dabf0579c2a7c6de920d584206e0834\n",
            "Successfully built pyspark\n",
            "Installing collected packages: pyspark\n",
            "Successfully installed pyspark-3.4.1\n"
          ]
        }
      ],
      "source": [
        "!pip install pyspark"
      ]
    },
    {
      "cell_type": "code",
      "source": [
        "from pyspark.sql import SparkSession\n",
        "spark = SparkSession.builder.appName(\"example\").getOrCreate()\n",
        "print(spark.version)\n"
      ],
      "metadata": {
        "colab": {
          "base_uri": "https://localhost:8080/"
        },
        "id": "s72j5gotofTj",
        "outputId": "e397b0bc-7364-4086-99c6-2cd02d5d4c46"
      },
      "execution_count": 14,
      "outputs": [
        {
          "output_type": "stream",
          "name": "stdout",
          "text": [
            "3.4.1\n"
          ]
        }
      ]
    },
    {
      "cell_type": "code",
      "source": [
        "from pyspark.sql.functions import *\n"
      ],
      "metadata": {
        "id": "dp3FFyD0pkCv"
      },
      "execution_count": 15,
      "outputs": []
    },
    {
      "cell_type": "code",
      "source": [
        "data = [\n",
        "    ('2020-06-01','Win'),\n",
        "    ('2020-06-02','Win'),\n",
        "    ('2020-06-03','Win'),\n",
        "    ('2020-06-04','Lost'),\n",
        "    ('2020-06-05','Lost'),\n",
        "    ('2020-06-06','Lost'),\n",
        "    ('2020-06-07','Win'),\n",
        "    ('2020-06-08','Lost'),\n",
        "]"
      ],
      "metadata": {
        "id": "bpNF2xRtwFyz"
      },
      "execution_count": 16,
      "outputs": []
    },
    {
      "cell_type": "code",
      "source": [
        "df = spark.createDataFrame(data,['event_date','status'])"
      ],
      "metadata": {
        "id": "Eg-SfqJpwf1R"
      },
      "execution_count": 17,
      "outputs": []
    },
    {
      "cell_type": "code",
      "source": [
        "df = df.withColumn('event_date', to_date(col('event_date')))"
      ],
      "metadata": {
        "id": "5tUdnqHRwyHB"
      },
      "execution_count": 18,
      "outputs": []
    },
    {
      "cell_type": "code",
      "source": [
        "df.show()"
      ],
      "metadata": {
        "colab": {
          "base_uri": "https://localhost:8080/"
        },
        "id": "Xd8R3EzVxCgW",
        "outputId": "caeb06d4-42b4-4f26-e657-0c2257656d9e"
      },
      "execution_count": 20,
      "outputs": [
        {
          "output_type": "stream",
          "name": "stdout",
          "text": [
            "+----------+------+\n",
            "|event_date|status|\n",
            "+----------+------+\n",
            "|2020-06-01|   Win|\n",
            "|2020-06-02|   Win|\n",
            "|2020-06-03|   Win|\n",
            "|2020-06-04|  Lost|\n",
            "|2020-06-05|  Lost|\n",
            "|2020-06-06|  Lost|\n",
            "|2020-06-07|   Win|\n",
            "|2020-06-08|  Lost|\n",
            "+----------+------+\n",
            "\n"
          ]
        }
      ]
    },
    {
      "cell_type": "code",
      "source": [
        "from pyspark.sql.window import Window"
      ],
      "metadata": {
        "id": "STjHaLLSyB1k"
      },
      "execution_count": 21,
      "outputs": []
    },
    {
      "cell_type": "code",
      "source": [
        "df1 = df.withColumn(\"event_change\", when(col(\"status\")!= lag(\"status\").over(Window.orderBy(\"event_date\")),1).otherwise(0))"
      ],
      "metadata": {
        "id": "i_aslbUSyN7B"
      },
      "execution_count": 22,
      "outputs": []
    },
    {
      "cell_type": "code",
      "source": [
        "df1.show()"
      ],
      "metadata": {
        "colab": {
          "base_uri": "https://localhost:8080/"
        },
        "id": "KwVx5Dg5ytpX",
        "outputId": "a088e42a-9565-4ae6-cb71-221206d8d926"
      },
      "execution_count": 23,
      "outputs": [
        {
          "output_type": "stream",
          "name": "stdout",
          "text": [
            "+----------+------+------------+\n",
            "|event_date|status|event_change|\n",
            "+----------+------+------------+\n",
            "|2020-06-01|   Win|           0|\n",
            "|2020-06-02|   Win|           0|\n",
            "|2020-06-03|   Win|           0|\n",
            "|2020-06-04|  Lost|           1|\n",
            "|2020-06-05|  Lost|           0|\n",
            "|2020-06-06|  Lost|           0|\n",
            "|2020-06-07|   Win|           1|\n",
            "|2020-06-08|  Lost|           1|\n",
            "+----------+------+------------+\n",
            "\n"
          ]
        }
      ]
    },
    {
      "cell_type": "code",
      "source": [
        "df2 = df1.withColumn(\"event_group\", sum(\"event_change\").over(Window.orderBy(\"event_date\")))"
      ],
      "metadata": {
        "id": "KC6i9Pw7y-k1"
      },
      "execution_count": 24,
      "outputs": []
    },
    {
      "cell_type": "code",
      "source": [
        "df2.show()"
      ],
      "metadata": {
        "colab": {
          "base_uri": "https://localhost:8080/"
        },
        "id": "7lyvFUaTzQG_",
        "outputId": "4a52c4bd-aa76-4f23-9852-7646e2c36c61"
      },
      "execution_count": 25,
      "outputs": [
        {
          "output_type": "stream",
          "name": "stdout",
          "text": [
            "+----------+------+------------+-----------+\n",
            "|event_date|status|event_change|event_group|\n",
            "+----------+------+------------+-----------+\n",
            "|2020-06-01|   Win|           0|          0|\n",
            "|2020-06-02|   Win|           0|          0|\n",
            "|2020-06-03|   Win|           0|          0|\n",
            "|2020-06-04|  Lost|           1|          1|\n",
            "|2020-06-05|  Lost|           0|          1|\n",
            "|2020-06-06|  Lost|           0|          1|\n",
            "|2020-06-07|   Win|           1|          2|\n",
            "|2020-06-08|  Lost|           1|          3|\n",
            "+----------+------+------------+-----------+\n",
            "\n"
          ]
        }
      ]
    },
    {
      "cell_type": "code",
      "source": [
        "df3 = df2.groupBy(\"event_group\",\"status\").agg(first(\"event_date\").alias(\"start_date\"), last(\"event_date\").alias(\"end_date\")).drop(\"event_group\")"
      ],
      "metadata": {
        "id": "c4KkdanAzVet"
      },
      "execution_count": 27,
      "outputs": []
    },
    {
      "cell_type": "code",
      "source": [
        "df3.show()"
      ],
      "metadata": {
        "colab": {
          "base_uri": "https://localhost:8080/"
        },
        "id": "g6D8hSrc0SfH",
        "outputId": "de0a98af-05ab-4337-e78e-420ee4922b0e"
      },
      "execution_count": 28,
      "outputs": [
        {
          "output_type": "stream",
          "name": "stdout",
          "text": [
            "+------+----------+----------+\n",
            "|status|start_date|  end_date|\n",
            "+------+----------+----------+\n",
            "|   Win|2020-06-01|2020-06-03|\n",
            "|  Lost|2020-06-04|2020-06-06|\n",
            "|   Win|2020-06-07|2020-06-07|\n",
            "|  Lost|2020-06-08|2020-06-08|\n",
            "+------+----------+----------+\n",
            "\n"
          ]
        }
      ]
    },
    {
      "cell_type": "markdown",
      "source": [
        "Using Spark SQL"
      ],
      "metadata": {
        "id": "bjPayyhM1J_5"
      }
    },
    {
      "cell_type": "code",
      "source": [
        "from py4j.java_gateway import select\n",
        "with cte1 as (\n",
        "    select\n",
        "    event_date,\n",
        "    status,\n",
        "    CASE WHEN event_status != LAG(event_status) OVER( order by event_date) THEN 1 ELSE 0 END AS event_change\n",
        "    from table)\n",
        "\n",
        ", cte 2 as (\n",
        "    select\n",
        "    event_date, status, SUM(event_change) over (order by event_date) as event_group\n",
        "    from CTE1\n",
        ")\n",
        "\n",
        "Group by event_group, event_status\n",
        "order by event_group\n"
      ],
      "metadata": {
        "colab": {
          "base_uri": "https://localhost:8080/",
          "height": 140
        },
        "id": "NIIOkSOe1G_u",
        "outputId": "2312dfa6-6fc6-4cbd-c355-c731fd67b568"
      },
      "execution_count": 30,
      "outputs": [
        {
          "output_type": "error",
          "ename": "SyntaxError",
          "evalue": "ignored",
          "traceback": [
            "\u001b[0;36m  File \u001b[0;32m\"<ipython-input-30-aa57a97edf3a>\"\u001b[0;36m, line \u001b[0;32m13\u001b[0m\n\u001b[0;31m    )\u001b[0m\n\u001b[0m    ^\u001b[0m\n\u001b[0;31mSyntaxError\u001b[0m\u001b[0;31m:\u001b[0m unmatched ')'\n"
          ]
        }
      ]
    },
    {
      "cell_type": "code",
      "source": [],
      "metadata": {
        "id": "jikywTiy18HR"
      },
      "execution_count": 30,
      "outputs": []
    }
  ]
}