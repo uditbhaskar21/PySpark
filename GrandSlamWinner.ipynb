{
  "nbformat": 4,
  "nbformat_minor": 0,
  "metadata": {
    "colab": {
      "provenance": [],
      "authorship_tag": "ABX9TyMLM3BCCAXFic/CN/s3rA8L",
      "include_colab_link": true
    },
    "kernelspec": {
      "name": "python3",
      "display_name": "Python 3"
    },
    "language_info": {
      "name": "python"
    }
  },
  "cells": [
    {
      "cell_type": "markdown",
      "metadata": {
        "id": "view-in-github",
        "colab_type": "text"
      },
      "source": [
        "<a href=\"https://colab.research.google.com/github/uditbhaskar21/PySpark/blob/main/GrandSlamWinner.ipynb\" target=\"_parent\"><img src=\"https://colab.research.google.com/assets/colab-badge.svg\" alt=\"Open In Colab\"/></a>"
      ]
    },
    {
      "cell_type": "code",
      "execution_count": 3,
      "metadata": {
        "colab": {
          "base_uri": "https://localhost:8080/"
        },
        "id": "hHCbVrchtEi5",
        "outputId": "91672beb-3aad-4f78-d39a-dc36e8f21de1"
      },
      "outputs": [
        {
          "output_type": "stream",
          "name": "stdout",
          "text": [
            "Collecting pyspark\n",
            "  Downloading pyspark-3.4.1.tar.gz (310.8 MB)\n",
            "\u001b[2K     \u001b[90m━━━━━━━━━━━━━━━━━━━━━━━━━━━━━━━━━━━━━━━\u001b[0m \u001b[32m310.8/310.8 MB\u001b[0m \u001b[31m2.4 MB/s\u001b[0m eta \u001b[36m0:00:00\u001b[0m\n",
            "\u001b[?25h  Preparing metadata (setup.py) ... \u001b[?25l\u001b[?25hdone\n",
            "Requirement already satisfied: py4j==0.10.9.7 in /usr/local/lib/python3.10/dist-packages (from pyspark) (0.10.9.7)\n",
            "Building wheels for collected packages: pyspark\n",
            "  Building wheel for pyspark (setup.py) ... \u001b[?25l\u001b[?25hdone\n",
            "  Created wheel for pyspark: filename=pyspark-3.4.1-py2.py3-none-any.whl size=311285387 sha256=b1fd5e0fd3db6859e1255864e8a19165cb6d13760b2cccfb94f796c06795a964\n",
            "  Stored in directory: /root/.cache/pip/wheels/0d/77/a3/ff2f74cc9ab41f8f594dabf0579c2a7c6de920d584206e0834\n",
            "Successfully built pyspark\n",
            "Installing collected packages: pyspark\n",
            "Successfully installed pyspark-3.4.1\n"
          ]
        }
      ],
      "source": [
        "!pip install pyspark\n"
      ]
    },
    {
      "cell_type": "code",
      "source": [
        "from pyspark.sql import SparkSession\n",
        "spark = SparkSession.builder.appName(\"example\").getOrCreate()\n",
        "print(spark.version)"
      ],
      "metadata": {
        "colab": {
          "base_uri": "https://localhost:8080/"
        },
        "id": "BmbQ7hF13cGf",
        "outputId": "aeba6bb7-4f1c-4301-fb25-6084f3caa8f6"
      },
      "execution_count": 4,
      "outputs": [
        {
          "output_type": "stream",
          "name": "stdout",
          "text": [
            "3.4.1\n"
          ]
        }
      ]
    },
    {
      "cell_type": "code",
      "source": [
        "from pyspark.sql.functions import *"
      ],
      "metadata": {
        "id": "8ut7dn7y3-2V"
      },
      "execution_count": 5,
      "outputs": []
    },
    {
      "cell_type": "code",
      "source": [
        "players_data = [\n",
        "    (1, 'Nadal'),\n",
        "    (2, 'Federer'),\n",
        "    (3, 'Novak')\n",
        "]\n",
        "player_col = ['id','name']\n",
        "player_df = spark.createDataFrame(players_data,player_col)"
      ],
      "metadata": {
        "id": "lR0-qY195NTk"
      },
      "execution_count": 7,
      "outputs": []
    },
    {
      "cell_type": "code",
      "source": [
        "player_df.show()"
      ],
      "metadata": {
        "colab": {
          "base_uri": "https://localhost:8080/"
        },
        "id": "TTTiqrZg5wL3",
        "outputId": "9ff82dde-9caa-42f1-a0b4-d7a17144fbb2"
      },
      "execution_count": 8,
      "outputs": [
        {
          "output_type": "stream",
          "name": "stdout",
          "text": [
            "+---+-------+\n",
            "| id|   name|\n",
            "+---+-------+\n",
            "|  1|  Nadal|\n",
            "|  2|Federer|\n",
            "|  3|  Novak|\n",
            "+---+-------+\n",
            "\n"
          ]
        }
      ]
    },
    {
      "cell_type": "code",
      "source": [
        "c_data = [\n",
        "    (2017,2,1,1,2),\n",
        "    (2018,3,1,3,2),\n",
        "    (2019,3,1,1,3)\n",
        "]\n",
        "\n",
        "c_col = ['year','Wimbeldon','French','US','Aus']\n",
        "c_df = spark.createDataFrame(c_data,c_col)\n",
        "c_df.show()"
      ],
      "metadata": {
        "colab": {
          "base_uri": "https://localhost:8080/"
        },
        "id": "C0bDCX-_52PZ",
        "outputId": "93784cfd-a7df-451d-e7c7-f36ab3eebf01"
      },
      "execution_count": 9,
      "outputs": [
        {
          "output_type": "stream",
          "name": "stdout",
          "text": [
            "+----+---------+------+---+---+\n",
            "|year|Wimbeldon|French| US|Aus|\n",
            "+----+---------+------+---+---+\n",
            "|2017|        2|     1|  1|  2|\n",
            "|2018|        3|     1|  3|  2|\n",
            "|2019|        3|     1|  1|  3|\n",
            "+----+---------+------+---+---+\n",
            "\n"
          ]
        }
      ]
    },
    {
      "cell_type": "markdown",
      "source": [
        "# PySpark Approach"
      ],
      "metadata": {
        "id": "ogq05nnh8jCE"
      }
    },
    {
      "cell_type": "code",
      "source": [
        "df1 = (c_df.select(\"year\",col(\"Wimbeldon\").alias(\"player\")).unionAll(c_df.select(\"year\",col(\"French\").alias(\"player\"))).unionAll(c_df.select(\"year\",col(\"US\").alias(\"player\")))\n",
        ".unionAll(c_df.select(\"year\",col(\"Aus\").alias(\"player\"))))\n",
        "\n",
        "df1.show()\n"
      ],
      "metadata": {
        "colab": {
          "base_uri": "https://localhost:8080/"
        },
        "id": "toVIZxwZ8luO",
        "outputId": "f14d5490-dba2-4b71-ceb2-d65b5446ee11"
      },
      "execution_count": 12,
      "outputs": [
        {
          "output_type": "stream",
          "name": "stdout",
          "text": [
            "+----+------+\n",
            "|year|player|\n",
            "+----+------+\n",
            "|2017|     2|\n",
            "|2018|     3|\n",
            "|2019|     3|\n",
            "|2017|     1|\n",
            "|2018|     1|\n",
            "|2019|     1|\n",
            "|2017|     1|\n",
            "|2018|     3|\n",
            "|2019|     1|\n",
            "|2017|     2|\n",
            "|2018|     2|\n",
            "|2019|     3|\n",
            "+----+------+\n",
            "\n"
          ]
        }
      ]
    },
    {
      "cell_type": "code",
      "source": [
        "df2 = df1.groupBy(\"player\").agg(count(\"*\").alias(\"grand_slams_count\"))\n",
        "df2.show()"
      ],
      "metadata": {
        "colab": {
          "base_uri": "https://localhost:8080/"
        },
        "id": "X1MC4rtl-DLP",
        "outputId": "7419f2b3-dcec-46c0-99c6-d8bb0764a8f0"
      },
      "execution_count": 13,
      "outputs": [
        {
          "output_type": "stream",
          "name": "stdout",
          "text": [
            "+------+-----------------+\n",
            "|player|grand_slams_count|\n",
            "+------+-----------------+\n",
            "|     2|                3|\n",
            "|     3|                4|\n",
            "|     1|                5|\n",
            "+------+-----------------+\n",
            "\n"
          ]
        }
      ]
    },
    {
      "cell_type": "code",
      "source": [
        "result_df = df2.join(player_df,df2.player == player_df.id, \"inner\").select(\"id\",\"name\",\"grand_slams_count\").orderBy(\"id\")\n",
        "result_df.show()"
      ],
      "metadata": {
        "colab": {
          "base_uri": "https://localhost:8080/"
        },
        "id": "P0s1U5Y_-TlF",
        "outputId": "a42dfb66-5f45-4fe4-d499-23d0ad9bba3b"
      },
      "execution_count": 15,
      "outputs": [
        {
          "output_type": "stream",
          "name": "stdout",
          "text": [
            "+---+-------+-----------------+\n",
            "| id|   name|grand_slams_count|\n",
            "+---+-------+-----------------+\n",
            "|  1|  Nadal|                5|\n",
            "|  2|Federer|                3|\n",
            "|  3|  Novak|                4|\n",
            "+---+-------+-----------------+\n",
            "\n"
          ]
        }
      ]
    },
    {
      "cell_type": "markdown",
      "source": [
        "# **SQL**"
      ],
      "metadata": {
        "id": "vM5TimXT6ZNz"
      }
    },
    {
      "cell_type": "code",
      "source": [
        "player_df.createOrReplaceGlobalTempView(\"Players\")\n",
        "c_df.createGlobalTempView(\"Champ\")"
      ],
      "metadata": {
        "id": "h8JSG5Y-6VPY"
      },
      "execution_count": 11,
      "outputs": []
    },
    {
      "cell_type": "markdown",
      "source": [
        "Split rows"
      ],
      "metadata": {
        "id": "TJDXI78_7FNC"
      }
    },
    {
      "cell_type": "code",
      "source": [
        "select year,wimbeldon as  player from cham\n",
        "union all\n",
        "select year,french as  player from cham\n",
        "union all\n",
        "select year,US as  player from cham\n",
        "union all\n",
        "select year,aus as  player from cham\n"
      ],
      "metadata": {
        "id": "PJWZyo7m6pIn"
      },
      "execution_count": null,
      "outputs": []
    },
    {
      "cell_type": "markdown",
      "source": [
        "Aggregation"
      ],
      "metadata": {
        "id": "Vh96A9gD7Hlc"
      }
    },
    {
      "cell_type": "code",
      "source": [
        "with cte as(\n",
        "    select year,wimbeldon as  player from cham\n",
        "union all\n",
        "select year,french as  player from cham\n",
        "union all\n",
        "select year,US as  player from cham\n",
        "union all\n",
        "select year,aus as  player from cham\n",
        "\n",
        ")\n",
        "\n",
        "select player, count(1) as grand_slam_count from cte\n",
        "group by player"
      ],
      "metadata": {
        "id": "jZKg1Qmq7BNB"
      },
      "execution_count": null,
      "outputs": []
    },
    {
      "cell_type": "markdown",
      "source": [
        "Getting player name"
      ],
      "metadata": {
        "id": "2Q1uur7U7eRm"
      }
    },
    {
      "cell_type": "code",
      "source": [
        "with cte as(\n",
        "    select year,wimbeldon as  player from cham\n",
        "union all\n",
        "select year,french as  player from cham\n",
        "union all\n",
        "select year,US as  player from cham\n",
        "union all\n",
        "select year,aus as  player from cham\n",
        "\n",
        "),\n",
        "with cte2 as(\n",
        "select player, count(1) as grand_slam_count from cte\n",
        "group by player)\n",
        "\n",
        "select player_id,player_name, grand_slam_count from cte2 join players on cte2.player = players.player_id"
      ],
      "metadata": {
        "id": "MLfRJBwT7f7E"
      },
      "execution_count": null,
      "outputs": []
    },
    {
      "cell_type": "markdown",
      "source": [
        "# **Aproach2**"
      ],
      "metadata": {
        "id": "qhZAZn_179yX"
      }
    },
    {
      "cell_type": "code",
      "source": [],
      "metadata": {
        "id": "Ye3WCZoP8B1O"
      },
      "execution_count": null,
      "outputs": []
    }
  ]
}