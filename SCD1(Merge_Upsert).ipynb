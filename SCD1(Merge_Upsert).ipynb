{
  "nbformat": 4,
  "nbformat_minor": 0,
  "metadata": {
    "colab": {
      "provenance": [],
      "authorship_tag": "ABX9TyM3ume7X5MhlEIrm6g3BOHW",
      "include_colab_link": true
    },
    "kernelspec": {
      "name": "python3",
      "display_name": "Python 3"
    },
    "language_info": {
      "name": "python"
    }
  },
  "cells": [
    {
      "cell_type": "markdown",
      "metadata": {
        "id": "view-in-github",
        "colab_type": "text"
      },
      "source": [
        "<a href=\"https://colab.research.google.com/github/uditbhaskar21/PySpark/blob/main/SCD1(Merge_Upsert).ipynb\" target=\"_parent\"><img src=\"https://colab.research.google.com/assets/colab-badge.svg\" alt=\"Open In Colab\"/></a>"
      ]
    },
    {
      "cell_type": "code",
      "execution_count": 1,
      "metadata": {
        "colab": {
          "base_uri": "https://localhost:8080/"
        },
        "id": "23GmnfsfdZ-x",
        "outputId": "88895510-304c-4e02-eb86-c8de214cbc57"
      },
      "outputs": [
        {
          "output_type": "stream",
          "name": "stdout",
          "text": [
            "Collecting pyspark\n",
            "  Downloading pyspark-3.4.1.tar.gz (310.8 MB)\n",
            "\u001b[2K     \u001b[90m━━━━━━━━━━━━━━━━━━━━━━━━━━━━━━━━━━━━━━━\u001b[0m \u001b[32m310.8/310.8 MB\u001b[0m \u001b[31m2.8 MB/s\u001b[0m eta \u001b[36m0:00:00\u001b[0m\n",
            "\u001b[?25h  Preparing metadata (setup.py) ... \u001b[?25l\u001b[?25hdone\n",
            "Requirement already satisfied: py4j==0.10.9.7 in /usr/local/lib/python3.10/dist-packages (from pyspark) (0.10.9.7)\n",
            "Building wheels for collected packages: pyspark\n",
            "  Building wheel for pyspark (setup.py) ... \u001b[?25l\u001b[?25hdone\n",
            "  Created wheel for pyspark: filename=pyspark-3.4.1-py2.py3-none-any.whl size=311285387 sha256=5a1c5176ff50ebdd11210131f197cfc058b80bf12f4d78538976274134173c2c\n",
            "  Stored in directory: /root/.cache/pip/wheels/0d/77/a3/ff2f74cc9ab41f8f594dabf0579c2a7c6de920d584206e0834\n",
            "Successfully built pyspark\n",
            "Installing collected packages: pyspark\n",
            "Successfully installed pyspark-3.4.1\n"
          ]
        }
      ],
      "source": [
        "!pip install pyspark"
      ]
    },
    {
      "cell_type": "code",
      "source": [
        "from pyspark.sql import SparkSession\n",
        "spark = SparkSession.builder.appName(\"scd1\").getOrCreate()"
      ],
      "metadata": {
        "id": "jW2OM27Oddqe"
      },
      "execution_count": 2,
      "outputs": []
    },
    {
      "cell_type": "code",
      "source": [
        "from pyspark.sql.functions import *"
      ],
      "metadata": {
        "id": "Zz2yvzN4d2w1"
      },
      "execution_count": 6,
      "outputs": []
    },
    {
      "cell_type": "code",
      "source": [
        "from pyspark.sql.types import *\n",
        "schema = StructType([StructField(\"emp_id\",IntegerType(),True),StructField(\"name\",StringType(),True),StructField(\"city\",StringType(),True),\n",
        "                     StructField(\"country\",StringType(),True),StructField(\"contact_no\",IntegerType(),True),])"
      ],
      "metadata": {
        "id": "jcCRvh78d6WW"
      },
      "execution_count": 5,
      "outputs": []
    },
    {
      "cell_type": "code",
      "source": [
        "data = [(100,\"UB\",\"Noida\",\"Bharat\",892976),(200,\"Haha\",\"Nana\",\"Hihi\",89296)]\n",
        "df = spark.createDataFrame(data,schema)\n",
        "df.show()"
      ],
      "metadata": {
        "colab": {
          "base_uri": "https://localhost:8080/"
        },
        "id": "ASPqmGvletWx",
        "outputId": "79e875f6-cd7a-4c75-86d3-4a380e030634"
      },
      "execution_count": 8,
      "outputs": [
        {
          "output_type": "stream",
          "name": "stdout",
          "text": [
            "+------+----+-----+-------+----------+\n",
            "|emp_id|name| city|country|contact_no|\n",
            "+------+----+-----+-------+----------+\n",
            "|   100|  UB|Noida| Bharat|    892976|\n",
            "|   200|Haha| Nana|   Hihi|     89296|\n",
            "+------+----+-----+-------+----------+\n",
            "\n"
          ]
        }
      ]
    },
    {
      "cell_type": "code",
      "source": [
        "from delta.tables import *\n",
        "delta_df = DeltaTable.forPath(\"Path\")"
      ],
      "metadata": {
        "id": "cZeHUCFWgehB"
      },
      "execution_count": null,
      "outputs": []
    },
    {
      "cell_type": "markdown",
      "source": [
        "Merge Operation"
      ],
      "metadata": {
        "id": "TxtEWHI4hbp1"
      }
    },
    {
      "cell_type": "code",
      "source": [
        "delta_df.alias(\"target\").merge(\n",
        "    source = df.alias(\"Source\"),\n",
        "    condition  = \"target.emp_id = source.emp_id\"\n",
        ").whenMatchedUpdate(set = {\n",
        "    \"name\": \"source.name\",\n",
        "    \"city\": \"source.city\",\n",
        "    \"country\": \"source.country\"\n",
        "}).whenNotMatchedInsert(values = {\n",
        "    \"name\": \"source.name\",\n",
        "    \"city\": \"source.city\",\n",
        "    \"country\": \"source.country\"\n",
        "}).execute()"
      ],
      "metadata": {
        "id": "vZaFoWW4gmSR"
      },
      "execution_count": null,
      "outputs": []
    }
  ]
}