{
  "nbformat": 4,
  "nbformat_minor": 0,
  "metadata": {
    "colab": {
      "provenance": [],
      "authorship_tag": "ABX9TyMBmtYv8sNFY4RidhFYno4z",
      "include_colab_link": true
    },
    "kernelspec": {
      "name": "python3",
      "display_name": "Python 3"
    },
    "language_info": {
      "name": "python"
    }
  },
  "cells": [
    {
      "cell_type": "markdown",
      "metadata": {
        "id": "view-in-github",
        "colab_type": "text"
      },
      "source": [
        "<a href=\"https://colab.research.google.com/github/uditbhaskar21/PySpark/blob/main/joins.ipynb\" target=\"_parent\"><img src=\"https://colab.research.google.com/assets/colab-badge.svg\" alt=\"Open In Colab\"/></a>"
      ]
    },
    {
      "cell_type": "code",
      "execution_count": 1,
      "metadata": {
        "colab": {
          "base_uri": "https://localhost:8080/"
        },
        "id": "VLPd5fZEitQn",
        "outputId": "c46e23f1-007f-4aed-ecd4-6e10cf45300e"
      },
      "outputs": [
        {
          "output_type": "stream",
          "name": "stdout",
          "text": [
            "Collecting pyspark\n",
            "  Downloading pyspark-3.4.1.tar.gz (310.8 MB)\n",
            "\u001b[2K     \u001b[90m━━━━━━━━━━━━━━━━━━━━━━━━━━━━━━━━━━━━━━━\u001b[0m \u001b[32m310.8/310.8 MB\u001b[0m \u001b[31m3.5 MB/s\u001b[0m eta \u001b[36m0:00:00\u001b[0m\n",
            "\u001b[?25h  Preparing metadata (setup.py) ... \u001b[?25l\u001b[?25hdone\n",
            "Requirement already satisfied: py4j==0.10.9.7 in /usr/local/lib/python3.10/dist-packages (from pyspark) (0.10.9.7)\n",
            "Building wheels for collected packages: pyspark\n",
            "  Building wheel for pyspark (setup.py) ... \u001b[?25l\u001b[?25hdone\n",
            "  Created wheel for pyspark: filename=pyspark-3.4.1-py2.py3-none-any.whl size=311285387 sha256=64df5fbc25bcf0c025af2f14e5ca06670eabfb98527f4b1eb16fb4b625f04154\n",
            "  Stored in directory: /root/.cache/pip/wheels/0d/77/a3/ff2f74cc9ab41f8f594dabf0579c2a7c6de920d584206e0834\n",
            "Successfully built pyspark\n",
            "Installing collected packages: pyspark\n",
            "Successfully installed pyspark-3.4.1\n"
          ]
        }
      ],
      "source": [
        "!pip install pyspark"
      ]
    },
    {
      "cell_type": "code",
      "source": [
        "from pyspark.sql import SparkSession\n",
        "spark = SparkSession.builder.appName(\"Joins\").getOrCreate()"
      ],
      "metadata": {
        "id": "x7Zuf_QTi-gt"
      },
      "execution_count": 2,
      "outputs": []
    },
    {
      "cell_type": "markdown",
      "source": [
        "DF1.join(DF2,DF1.key = DF2.key,Join_Type)"
      ],
      "metadata": {
        "id": "GCTN4w8EjRLV"
      }
    },
    {
      "cell_type": "code",
      "source": [
        "from pyspark.sql.types import *\n",
        "schema = StructType([StructField(\"emp_id\",IntegerType(),True),StructField(\"name\",StringType(),True),StructField(\"city\",StringType(),True),\n",
        "                     StructField(\"country\",StringType(),True),StructField(\"contact_no\",IntegerType(),True),])"
      ],
      "metadata": {
        "id": "tjDOVoSRj0U9"
      },
      "execution_count": 3,
      "outputs": []
    },
    {
      "cell_type": "code",
      "source": [
        "\n",
        "schema2 = StructType([StructField(\"emp_id\",IntegerType(),True),StructField(\"race\",StringType(),True),StructField(\"town\",StringType(),True),\n",
        "                     StructField(\"planet\",StringType(),True),StructField(\"adhar\",IntegerType(),True),])"
      ],
      "metadata": {
        "id": "KjH42EnukEqC"
      },
      "execution_count": 6,
      "outputs": []
    },
    {
      "cell_type": "code",
      "source": [
        "data = [(100,\"UB\",\"Noida\",\"Bharat\",892976),(200,\"Haha\",\"Nana\",\"Hihi\",89296)]\n",
        "\n",
        "df1 = spark.createDataFrame(data,schema)\n",
        "df.show()"
      ],
      "metadata": {
        "colab": {
          "base_uri": "https://localhost:8080/"
        },
        "id": "VPLuzEdyjQi-",
        "outputId": "29a9a865-8137-41fc-ae8c-ce731c1e6ee9"
      },
      "execution_count": 5,
      "outputs": [
        {
          "output_type": "stream",
          "name": "stdout",
          "text": [
            "+------+----+-----+-------+----------+\n",
            "|emp_id|name| city|country|contact_no|\n",
            "+------+----+-----+-------+----------+\n",
            "|   100|  UB|Noida| Bharat|    892976|\n",
            "|   200|Haha| Nana|   Hihi|     89296|\n",
            "+------+----+-----+-------+----------+\n",
            "\n"
          ]
        }
      ]
    },
    {
      "cell_type": "code",
      "source": [
        "data2 = [(100,\"gora\",\"GB\",\"earth\",7722),(200,\"kali\",\"aihan\",\"pluto\",6900)]\n",
        "\n",
        "df2 = spark.createDataFrame(data2,schema2)\n",
        "df2.show()"
      ],
      "metadata": {
        "colab": {
          "base_uri": "https://localhost:8080/"
        },
        "id": "RlwhHBUDj9XQ",
        "outputId": "409060ee-161a-4939-b1b8-b3bcee280c33"
      },
      "execution_count": 8,
      "outputs": [
        {
          "output_type": "stream",
          "name": "stdout",
          "text": [
            "+------+----+-----+------+-----+\n",
            "|emp_id|race| town|planet|adhar|\n",
            "+------+----+-----+------+-----+\n",
            "|   100|gora|   GB| earth| 7722|\n",
            "|   200|kali|aihan| pluto| 6900|\n",
            "+------+----+-----+------+-----+\n",
            "\n"
          ]
        }
      ]
    },
    {
      "cell_type": "code",
      "source": [
        "df3 = df1.join(df2,df1.emp_id == df2.emp_id, \"Left\")\n",
        "df3.show()"
      ],
      "metadata": {
        "colab": {
          "base_uri": "https://localhost:8080/"
        },
        "id": "HT4UV4rIkmmV",
        "outputId": "5c4a41e3-9e83-4342-f1f6-991abb21bade"
      },
      "execution_count": 14,
      "outputs": [
        {
          "output_type": "stream",
          "name": "stdout",
          "text": [
            "+------+----+-----+-------+----------+------+----+-----+------+-----+\n",
            "|emp_id|name| city|country|contact_no|emp_id|race| town|planet|adhar|\n",
            "+------+----+-----+-------+----------+------+----+-----+------+-----+\n",
            "|   100|  UB|Noida| Bharat|    892976|   100|gora|   GB| earth| 7722|\n",
            "|   200|Haha| Nana|   Hihi|     89296|   200|kali|aihan| pluto| 6900|\n",
            "+------+----+-----+-------+----------+------+----+-----+------+-----+\n",
            "\n"
          ]
        }
      ]
    }
  ]
}